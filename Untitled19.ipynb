{
 "cells": [
  {
   "cell_type": "code",
   "execution_count": 1,
   "metadata": {},
   "outputs": [],
   "source": [
    "import numpy as np\n",
    "import numpy.linalg as inv\n",
    "import sympy as sp\n",
    "from sympy import Symbol as perem"
   ]
  },
  {
   "cell_type": "code",
   "execution_count": 2,
   "metadata": {},
   "outputs": [
    {
     "name": "stdout",
     "output_type": "stream",
     "text": [
      "Коэффициенты a и b соответственно равны 0.08568 и 0.73208\n"
     ]
    }
   ],
   "source": [
    "#n = 20\n",
    "np.random.seed(1337)\n",
    "x = perem('x')\n",
    "X = np.random.uniform(0, 1, 20)\n",
    "Y = np.random.uniform(0, 1, 20)\n",
    "y = np.cbrt(Y)\n",
    "x_dots=[]\n",
    "y_dots=[]\n",
    "promezhutochnie = []\n",
    "for i in range(len(Y)):\n",
    "    resh = sp.solve((-x**3 + x**2 + x) - X[i], rational = False)\n",
    "    for reshenie in resh:\n",
    "        if 0 <= reshenie < 1:\n",
    "            promezhutochnie.append(reshenie)\n",
    "for iks in range(len(promezhutochnie)):\n",
    "    if promezhutochnie[iks] < y[iks]:\n",
    "        x_dots.append(promezhutochnie[iks])\n",
    "        y_dots.append(y[iks])\n",
    "x = np.array(x_dots).astype(float)\n",
    "y = np.array(y_dots).astype(float)\n",
    "XY = np.vstack([x, y])\n",
    "a = (np.cov(XY)[1][0])/np.var(x)\n",
    "b = np.mean(y)-a*np.mean(x)\n",
    "n_20 = [x, y, a, b]\n",
    "print('Коэффициенты a и b соответственно равны ' + str(round(a, 5)) + ' и ' + str(round(b, 5)))"
   ]
  },
  {
   "cell_type": "code",
   "execution_count": 3,
   "metadata": {},
   "outputs": [
    {
     "name": "stdout",
     "output_type": "stream",
     "text": [
      "Коэффициенты a и b соответственно равны 0.09625 и 0.77321\n"
     ]
    }
   ],
   "source": [
    "#n = 50\n",
    "np.random.seed(1337)\n",
    "x = perem('x')\n",
    "X = np.random.uniform(0, 1, 50)\n",
    "Y = np.random.uniform(0, 1, 50)\n",
    "y = np.cbrt(Y)\n",
    "x_dots=[]\n",
    "y_dots=[]\n",
    "promezhutochnie = []\n",
    "for i in range(len(Y)):\n",
    "    resh = sp.solve((-x**3 + x**2 + x) - X[i], rational = False)\n",
    "    for reshenie in resh:\n",
    "        if 0 <= reshenie < 1:\n",
    "            promezhutochnie.append(reshenie)\n",
    "for iks in range(len(promezhutochnie)):\n",
    "    if promezhutochnie[iks] < y[iks]:\n",
    "        x_dots.append(promezhutochnie[iks])\n",
    "        y_dots.append(y[iks])\n",
    "x = np.array(x_dots).astype(float)\n",
    "y = np.array(y_dots).astype(float)\n",
    "XY = np.vstack([x, y])\n",
    "a = (np.cov(XY)[1][0])/np.var(x)\n",
    "b = np.mean(y)-a*np.mean(x)\n",
    "n_50 = [x, y, a, b]\n",
    "print('Коэффициенты a и b соответственно равны ' + str(round(a, 5)) + ' и ' + str(round(b, 5)))"
   ]
  },
  {
   "cell_type": "code",
   "execution_count": 4,
   "metadata": {},
   "outputs": [
    {
     "name": "stdout",
     "output_type": "stream",
     "text": [
      "Коэффициенты a и b соответственно равны 0.37598 и 0.62065\n"
     ]
    }
   ],
   "source": [
    "#n = 100\n",
    "np.random.seed(1337)\n",
    "x = perem('x')\n",
    "X = np.random.uniform(0, 1, 100)\n",
    "Y = np.random.uniform(0, 1, 100)\n",
    "y = np.cbrt(Y)\n",
    "x_dots=[]\n",
    "y_dots=[]\n",
    "promezhutochnie = []\n",
    "for i in range(len(Y)):\n",
    "    resh = sp.solve((-x**3 + x**2 + x) - X[i], rational = False)\n",
    "    for reshenie in resh:\n",
    "        if 0 <= reshenie < 1:\n",
    "            promezhutochnie.append(reshenie)\n",
    "for iks in range(len(promezhutochnie)):\n",
    "    if promezhutochnie[iks] < y[iks]:\n",
    "        x_dots.append(promezhutochnie[iks])\n",
    "        y_dots.append(y[iks])\n",
    "x = np.array(x_dots).astype(float)\n",
    "y = np.array(y_dots).astype(float)\n",
    "XY = np.vstack([x, y])\n",
    "a = (np.cov(XY)[1][0])/np.var(x)\n",
    "b = np.mean(y)-a*np.mean(x)\n",
    "n_100 = [x, y, a, b]\n",
    "print('Коэффициенты a и b соответственно равны ' + str(round(a, 5)) + ' и ' + str(round(b, 5)))"
   ]
  },
  {
   "cell_type": "code",
   "execution_count": 5,
   "metadata": {},
   "outputs": [
    {
     "name": "stdout",
     "output_type": "stream",
     "text": [
      "Несмещенная оценка дисперсии ошибки при n = 20 равна  0.0042366196291646055\n",
      "R^2 при n = 20 равен  0.065\n",
      "t(a)= 1.1763587850174086 t_b= 75.71510877212677\n",
      "Несмещенная оценка дисперсии ошибки при n = 50 равна  0.0028916628962930443\n",
      "R^2 при n = 50 равен  -0.0056\n",
      "t(a)= 4.710581146456744 t_b= 211.03134374047215\n",
      "Несмещенная оценка дисперсии ошибки при n = 100 равна  0.0034360638846435334\n",
      "R^2 при n = 100 равен  0.1701\n",
      "t(a)= 26.78394076273729 t_b= 229.39871298386853\n"
     ]
    }
   ],
   "source": [
    "Rss = 0\n",
    "Tss = 0\n",
    "var_x = 0\n",
    "xyz = 0\n",
    "N = [n_20, n_50, n_100]\n",
    "counter = 0\n",
    "for vector in N:\n",
    "    for length in range(len(vector)):\n",
    "        Rss += (vector[1][length] - vector[2] * vector[0][length] - vector[3])**2\n",
    "        Tss += (vector[1][length] - np.mean(vector[1]))**2\n",
    "        var_x += (vector[0][length]-np.mean(vector[0]))**2\n",
    "        xyz += (vector[0][length])**2 \n",
    "    unbiased_err_var_estimate = Rss / ([20, 50, 100][counter] - 2)\n",
    "    t_a = vector[2]/(unbiased_err_var_estimate/var_x)\n",
    "    t_b = vector[3]/((unbiased_err_var_estimate/var_x)*(np.mean(vector[0]**2)))\n",
    "    print('Несмещенная оценка дисперсии ошибки при n = ' + str([20, 50, 100][counter]) + ' равна ', unbiased_err_var_estimate)\n",
    "    print('R^2 при n = ' + str([20, 50, 100][counter]) + ' равен ', round(1-(Rss/Tss), 4))\n",
    "    print('t(a)=', t_a, 't_b=', t_b)\n",
    "    counter += 1"
   ]
  }
 ],
 "metadata": {
  "kernelspec": {
   "display_name": "Python 3",
   "language": "python",
   "name": "python3"
  },
  "language_info": {
   "codemirror_mode": {
    "name": "ipython",
    "version": 3
   },
   "file_extension": ".py",
   "mimetype": "text/x-python",
   "name": "python",
   "nbconvert_exporter": "python",
   "pygments_lexer": "ipython3",
   "version": "3.8.5"
  }
 },
 "nbformat": 4,
 "nbformat_minor": 4
}
